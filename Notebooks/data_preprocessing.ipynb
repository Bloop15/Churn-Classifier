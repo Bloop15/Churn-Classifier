{
 "cells": [
  {
   "cell_type": "markdown",
   "id": "07c9aa6a",
   "metadata": {},
   "source": [
    "## Import Required Libraries"
   ]
  },
  {
   "cell_type": "code",
   "execution_count": 1,
   "id": "0fd500ff",
   "metadata": {},
   "outputs": [],
   "source": [
    "import pandas as pd\n",
    "from sklearn.model_selection import train_test_split\n",
    "from sklearn.preprocessing import StandardScaler, OneHotEncoder\n",
    "import joblib"
   ]
  },
  {
   "cell_type": "markdown",
   "id": "872a6d10",
   "metadata": {},
   "source": [
    "## Load the Semi-Cleaned Dataset"
   ]
  },
  {
   "cell_type": "code",
   "execution_count": 2,
   "id": "987ef591",
   "metadata": {},
   "outputs": [
    {
     "name": "stdout",
     "output_type": "stream",
     "text": [
      "First 5 rows of the Dataset: \n",
      "   customerID  gender  SeniorCitizen Partner Dependents  tenure PhoneService  \\\n",
      "0  7590-VHVEG  Female              0     Yes         No       1           No   \n",
      "1  5575-GNVDE    Male              0      No         No      34          Yes   \n",
      "2  3668-QPYBK    Male              0      No         No       2          Yes   \n",
      "3  7795-CFOCW    Male              0      No         No      45           No   \n",
      "4  9237-HQITU  Female              0      No         No       2          Yes   \n",
      "\n",
      "      MultipleLines InternetService OnlineSecurity  ... DeviceProtection  \\\n",
      "0  No phone service             DSL             No  ...               No   \n",
      "1                No             DSL            Yes  ...              Yes   \n",
      "2                No             DSL            Yes  ...               No   \n",
      "3  No phone service             DSL            Yes  ...              Yes   \n",
      "4                No     Fiber optic             No  ...               No   \n",
      "\n",
      "  TechSupport StreamingTV StreamingMovies        Contract PaperlessBilling  \\\n",
      "0          No          No              No  Month-to-month              Yes   \n",
      "1          No          No              No        One year               No   \n",
      "2          No          No              No  Month-to-month              Yes   \n",
      "3         Yes          No              No        One year               No   \n",
      "4          No          No              No  Month-to-month              Yes   \n",
      "\n",
      "               PaymentMethod MonthlyCharges  TotalCharges  Churn  \n",
      "0           Electronic check          29.85         29.85      0  \n",
      "1               Mailed check          56.95       1889.50      0  \n",
      "2               Mailed check          53.85        108.15      1  \n",
      "3  Bank transfer (automatic)          42.30       1840.75      0  \n",
      "4           Electronic check          70.70        151.65      1  \n",
      "\n",
      "[5 rows x 21 columns]\n",
      "--------------------------------------------------------------------------------\n",
      "\n",
      "Dataset Info: \n",
      "<class 'pandas.core.frame.DataFrame'>\n",
      "RangeIndex: 7032 entries, 0 to 7031\n",
      "Data columns (total 21 columns):\n",
      " #   Column            Non-Null Count  Dtype  \n",
      "---  ------            --------------  -----  \n",
      " 0   customerID        7032 non-null   object \n",
      " 1   gender            7032 non-null   object \n",
      " 2   SeniorCitizen     7032 non-null   int64  \n",
      " 3   Partner           7032 non-null   object \n",
      " 4   Dependents        7032 non-null   object \n",
      " 5   tenure            7032 non-null   int64  \n",
      " 6   PhoneService      7032 non-null   object \n",
      " 7   MultipleLines     7032 non-null   object \n",
      " 8   InternetService   7032 non-null   object \n",
      " 9   OnlineSecurity    7032 non-null   object \n",
      " 10  OnlineBackup      7032 non-null   object \n",
      " 11  DeviceProtection  7032 non-null   object \n",
      " 12  TechSupport       7032 non-null   object \n",
      " 13  StreamingTV       7032 non-null   object \n",
      " 14  StreamingMovies   7032 non-null   object \n",
      " 15  Contract          7032 non-null   object \n",
      " 16  PaperlessBilling  7032 non-null   object \n",
      " 17  PaymentMethod     7032 non-null   object \n",
      " 18  MonthlyCharges    7032 non-null   float64\n",
      " 19  TotalCharges      7032 non-null   float64\n",
      " 20  Churn             7032 non-null   int64  \n",
      "dtypes: float64(2), int64(3), object(16)\n",
      "memory usage: 1.1+ MB\n",
      "--------------------------------------------------------------------------------\n"
     ]
    }
   ],
   "source": [
    "# Load the Semi-Cleaned Dataset\n",
    "df= pd.read_csv('../data/semi_cleaned.csv')\n",
    "\n",
    "# Display the first 5 rows of the data set\n",
    "print(\"First 5 rows of the Dataset: \")\n",
    "print(df.head())\n",
    "print(\"-\"*80)\n",
    "\n",
    "# Get a concise summary of the DataFrame\n",
    "print(\"\\nDataset Info: \")\n",
    "df.info()\n",
    "print(\"-\"*80)"
   ]
  },
  {
   "cell_type": "markdown",
   "id": "76837f48",
   "metadata": {},
   "source": [
    "## Split the Dataset Into Features and Target Variables"
   ]
  },
  {
   "cell_type": "code",
   "execution_count": 3,
   "id": "8caf6387",
   "metadata": {},
   "outputs": [
    {
     "name": "stdout",
     "output_type": "stream",
     "text": [
      "Categorical Features: \n",
      "['gender', 'Partner', 'Dependents', 'PhoneService', 'MultipleLines', 'InternetService', 'OnlineSecurity', 'OnlineBackup', 'DeviceProtection', 'TechSupport', 'StreamingTV', 'StreamingMovies', 'Contract', 'PaperlessBilling', 'PaymentMethod', 'SeniorCitizen']\n",
      "--------------------------------------------------\n",
      "Numerical Features: \n",
      "['tenure', 'MonthlyCharges', 'TotalCharges']\n"
     ]
    }
   ],
   "source": [
    "# Drop the Unique Identifier Column\n",
    "df.drop('customerID', axis=1, inplace=True)\n",
    "\n",
    "# Seperate features (X) and Target (y)\n",
    "X= df.drop('Churn', axis=1)\n",
    "y= df['Churn']\n",
    "\n",
    "# Identify the Categorical and Numerical Columns\n",
    "categorical_features= X.select_dtypes(include=object).columns.tolist()+['SeniorCitizen']\n",
    "numerical_features= X.select_dtypes(exclude=object).columns.drop('SeniorCitizen').tolist()\n",
    "\n",
    "print(\"Categorical Features: \") \n",
    "print(categorical_features)\n",
    "print(\"-\"*50)\n",
    "print(\"Numerical Features: \")\n",
    "print(numerical_features)\n"
   ]
  },
  {
   "cell_type": "markdown",
   "id": "9e1f4e4c",
   "metadata": {},
   "source": [
    "## Splitting the Dataset"
   ]
  },
  {
   "cell_type": "code",
   "execution_count": 4,
   "id": "6b495522",
   "metadata": {},
   "outputs": [
    {
     "name": "stdout",
     "output_type": "stream",
     "text": [
      "X_train shape: (5625, 19)\n",
      "y_train shape: (5625,)\n",
      "X_test shape: (1407, 19)\n",
      "y_test shape: (1407,)\n"
     ]
    }
   ],
   "source": [
    "# Split Data into Training set and Test set\n",
    "X_train, X_test, y_train, y_test= train_test_split(X, y, test_size=0.2, random_state=42, stratify=y)\n",
    "\n",
    "print(f\"X_train shape: {X_train.shape}\")\n",
    "print(f\"y_train shape: {y_train.shape}\")\n",
    "print(f\"X_test shape: {X_test.shape}\")\n",
    "print(f\"y_test shape: {y_test.shape}\")\n"
   ]
  },
  {
   "cell_type": "markdown",
   "id": "98b51307",
   "metadata": {},
   "source": [
    "## One-Hot Encoding Categorical Features"
   ]
  },
  {
   "cell_type": "code",
   "execution_count": 5,
   "id": "a424e2e8",
   "metadata": {},
   "outputs": [
    {
     "name": "stdout",
     "output_type": "stream",
     "text": [
      "Categorical Features encoded successfully!\n"
     ]
    }
   ],
   "source": [
    "# Create an instance and fit the encoder\n",
    "ohe= OneHotEncoder(sparse_output=False, handle_unknown='ignore')\n",
    "ohe.fit(X_train[categorical_features])\n",
    "\n",
    "# Transform Training and Testing Data\n",
    "X_train_encoded= ohe.transform(X_train[categorical_features])\n",
    "X_test_encoded= ohe.transform(X_test[categorical_features])\n",
    "\n",
    "# Convert the encoded arrays back into DataFrame\n",
    "encoded_features= ohe.get_feature_names_out(categorical_features)\n",
    "X_train_cat= pd.DataFrame(X_train_encoded, columns=encoded_features, index=X_train.index)\n",
    "X_test_cat= pd.DataFrame(X_test_encoded, columns=encoded_features, index=X_test.index) \n",
    "\n",
    "print(\"Categorical Features encoded successfully!\")"
   ]
  },
  {
   "cell_type": "markdown",
   "id": "ebcfa86c",
   "metadata": {},
   "source": [
    "## Feature Scaling Numerical Data"
   ]
  },
  {
   "cell_type": "code",
   "execution_count": 7,
   "id": "ef990f76",
   "metadata": {},
   "outputs": [
    {
     "name": "stdout",
     "output_type": "stream",
     "text": [
      "Numerical Features encoded successfully!\n"
     ]
    }
   ],
   "source": [
    "# Create an instance and fit the scaler\n",
    "scaler= StandardScaler()\n",
    "scaler.fit(X_train[numerical_features])\n",
    "\n",
    "# Transform Training and Testing Data\n",
    "X_train_scaled= scaler.transform(X_train[numerical_features])\n",
    "X_test_scaled= scaler.transform(X_test[numerical_features])\n",
    "\n",
    "# Convert the scaled arrays back into DataFrame\n",
    "X_train_num= pd.DataFrame(X_train_scaled, columns=numerical_features, index=X_train.index)\n",
    "X_test_num= pd.DataFrame(X_test_scaled, columns=numerical_features, index=X_test.index)\n",
    "\n",
    "print(\"Numerical Features encoded successfully!\")"
   ]
  },
  {
   "cell_type": "markdown",
   "id": "1a33fe1c",
   "metadata": {},
   "source": [
    "## Combine Pre-Processed Data"
   ]
  },
  {
   "cell_type": "code",
   "execution_count": 8,
   "id": "0211ded1",
   "metadata": {},
   "outputs": [
    {
     "name": "stdout",
     "output_type": "stream",
     "text": [
      "Final Processed training data shape: (5625, 46)\n",
      "Final Processed testing data shape: (1407, 46)\n",
      "\n",
      "First 5 rows of the Final Processed Training Data: \n"
     ]
    },
    {
     "data": {
      "text/html": [
       "<div>\n",
       "<style scoped>\n",
       "    .dataframe tbody tr th:only-of-type {\n",
       "        vertical-align: middle;\n",
       "    }\n",
       "\n",
       "    .dataframe tbody tr th {\n",
       "        vertical-align: top;\n",
       "    }\n",
       "\n",
       "    .dataframe thead th {\n",
       "        text-align: right;\n",
       "    }\n",
       "</style>\n",
       "<table border=\"1\" class=\"dataframe\">\n",
       "  <thead>\n",
       "    <tr style=\"text-align: right;\">\n",
       "      <th></th>\n",
       "      <th>gender_Female</th>\n",
       "      <th>gender_Male</th>\n",
       "      <th>Partner_No</th>\n",
       "      <th>Partner_Yes</th>\n",
       "      <th>Dependents_No</th>\n",
       "      <th>Dependents_Yes</th>\n",
       "      <th>PhoneService_No</th>\n",
       "      <th>PhoneService_Yes</th>\n",
       "      <th>MultipleLines_No</th>\n",
       "      <th>MultipleLines_No phone service</th>\n",
       "      <th>...</th>\n",
       "      <th>PaperlessBilling_Yes</th>\n",
       "      <th>PaymentMethod_Bank transfer (automatic)</th>\n",
       "      <th>PaymentMethod_Credit card (automatic)</th>\n",
       "      <th>PaymentMethod_Electronic check</th>\n",
       "      <th>PaymentMethod_Mailed check</th>\n",
       "      <th>SeniorCitizen_0</th>\n",
       "      <th>SeniorCitizen_1</th>\n",
       "      <th>tenure</th>\n",
       "      <th>MonthlyCharges</th>\n",
       "      <th>TotalCharges</th>\n",
       "    </tr>\n",
       "  </thead>\n",
       "  <tbody>\n",
       "    <tr>\n",
       "      <th>1408</th>\n",
       "      <td>0.0</td>\n",
       "      <td>1.0</td>\n",
       "      <td>0.0</td>\n",
       "      <td>1.0</td>\n",
       "      <td>0.0</td>\n",
       "      <td>1.0</td>\n",
       "      <td>0.0</td>\n",
       "      <td>1.0</td>\n",
       "      <td>0.0</td>\n",
       "      <td>0.0</td>\n",
       "      <td>...</td>\n",
       "      <td>0.0</td>\n",
       "      <td>0.0</td>\n",
       "      <td>1.0</td>\n",
       "      <td>0.0</td>\n",
       "      <td>0.0</td>\n",
       "      <td>1.0</td>\n",
       "      <td>0.0</td>\n",
       "      <td>1.321816</td>\n",
       "      <td>0.981556</td>\n",
       "      <td>1.659900</td>\n",
       "    </tr>\n",
       "    <tr>\n",
       "      <th>6992</th>\n",
       "      <td>0.0</td>\n",
       "      <td>1.0</td>\n",
       "      <td>1.0</td>\n",
       "      <td>0.0</td>\n",
       "      <td>1.0</td>\n",
       "      <td>0.0</td>\n",
       "      <td>1.0</td>\n",
       "      <td>0.0</td>\n",
       "      <td>0.0</td>\n",
       "      <td>1.0</td>\n",
       "      <td>...</td>\n",
       "      <td>0.0</td>\n",
       "      <td>0.0</td>\n",
       "      <td>0.0</td>\n",
       "      <td>1.0</td>\n",
       "      <td>0.0</td>\n",
       "      <td>1.0</td>\n",
       "      <td>0.0</td>\n",
       "      <td>-0.267410</td>\n",
       "      <td>-0.971546</td>\n",
       "      <td>-0.562252</td>\n",
       "    </tr>\n",
       "    <tr>\n",
       "      <th>3349</th>\n",
       "      <td>1.0</td>\n",
       "      <td>0.0</td>\n",
       "      <td>0.0</td>\n",
       "      <td>1.0</td>\n",
       "      <td>1.0</td>\n",
       "      <td>0.0</td>\n",
       "      <td>0.0</td>\n",
       "      <td>1.0</td>\n",
       "      <td>0.0</td>\n",
       "      <td>0.0</td>\n",
       "      <td>...</td>\n",
       "      <td>0.0</td>\n",
       "      <td>0.0</td>\n",
       "      <td>1.0</td>\n",
       "      <td>0.0</td>\n",
       "      <td>0.0</td>\n",
       "      <td>1.0</td>\n",
       "      <td>0.0</td>\n",
       "      <td>1.444064</td>\n",
       "      <td>0.837066</td>\n",
       "      <td>1.756104</td>\n",
       "    </tr>\n",
       "    <tr>\n",
       "      <th>4486</th>\n",
       "      <td>0.0</td>\n",
       "      <td>1.0</td>\n",
       "      <td>1.0</td>\n",
       "      <td>0.0</td>\n",
       "      <td>1.0</td>\n",
       "      <td>0.0</td>\n",
       "      <td>0.0</td>\n",
       "      <td>1.0</td>\n",
       "      <td>1.0</td>\n",
       "      <td>0.0</td>\n",
       "      <td>...</td>\n",
       "      <td>0.0</td>\n",
       "      <td>0.0</td>\n",
       "      <td>0.0</td>\n",
       "      <td>1.0</td>\n",
       "      <td>0.0</td>\n",
       "      <td>1.0</td>\n",
       "      <td>0.0</td>\n",
       "      <td>-1.204646</td>\n",
       "      <td>0.641092</td>\n",
       "      <td>-0.908326</td>\n",
       "    </tr>\n",
       "    <tr>\n",
       "      <th>3535</th>\n",
       "      <td>1.0</td>\n",
       "      <td>0.0</td>\n",
       "      <td>0.0</td>\n",
       "      <td>1.0</td>\n",
       "      <td>1.0</td>\n",
       "      <td>0.0</td>\n",
       "      <td>1.0</td>\n",
       "      <td>0.0</td>\n",
       "      <td>0.0</td>\n",
       "      <td>1.0</td>\n",
       "      <td>...</td>\n",
       "      <td>0.0</td>\n",
       "      <td>1.0</td>\n",
       "      <td>0.0</td>\n",
       "      <td>0.0</td>\n",
       "      <td>0.0</td>\n",
       "      <td>1.0</td>\n",
       "      <td>0.0</td>\n",
       "      <td>0.669826</td>\n",
       "      <td>-0.808787</td>\n",
       "      <td>-0.101561</td>\n",
       "    </tr>\n",
       "  </tbody>\n",
       "</table>\n",
       "<p>5 rows × 46 columns</p>\n",
       "</div>"
      ],
      "text/plain": [
       "      gender_Female  gender_Male  Partner_No  Partner_Yes  Dependents_No  \\\n",
       "1408            0.0          1.0         0.0          1.0            0.0   \n",
       "6992            0.0          1.0         1.0          0.0            1.0   \n",
       "3349            1.0          0.0         0.0          1.0            1.0   \n",
       "4486            0.0          1.0         1.0          0.0            1.0   \n",
       "3535            1.0          0.0         0.0          1.0            1.0   \n",
       "\n",
       "      Dependents_Yes  PhoneService_No  PhoneService_Yes  MultipleLines_No  \\\n",
       "1408             1.0              0.0               1.0               0.0   \n",
       "6992             0.0              1.0               0.0               0.0   \n",
       "3349             0.0              0.0               1.0               0.0   \n",
       "4486             0.0              0.0               1.0               1.0   \n",
       "3535             0.0              1.0               0.0               0.0   \n",
       "\n",
       "      MultipleLines_No phone service  ...  PaperlessBilling_Yes  \\\n",
       "1408                             0.0  ...                   0.0   \n",
       "6992                             1.0  ...                   0.0   \n",
       "3349                             0.0  ...                   0.0   \n",
       "4486                             0.0  ...                   0.0   \n",
       "3535                             1.0  ...                   0.0   \n",
       "\n",
       "      PaymentMethod_Bank transfer (automatic)  \\\n",
       "1408                                      0.0   \n",
       "6992                                      0.0   \n",
       "3349                                      0.0   \n",
       "4486                                      0.0   \n",
       "3535                                      1.0   \n",
       "\n",
       "      PaymentMethod_Credit card (automatic)  PaymentMethod_Electronic check  \\\n",
       "1408                                    1.0                             0.0   \n",
       "6992                                    0.0                             1.0   \n",
       "3349                                    1.0                             0.0   \n",
       "4486                                    0.0                             1.0   \n",
       "3535                                    0.0                             0.0   \n",
       "\n",
       "      PaymentMethod_Mailed check  SeniorCitizen_0  SeniorCitizen_1    tenure  \\\n",
       "1408                         0.0              1.0              0.0  1.321816   \n",
       "6992                         0.0              1.0              0.0 -0.267410   \n",
       "3349                         0.0              1.0              0.0  1.444064   \n",
       "4486                         0.0              1.0              0.0 -1.204646   \n",
       "3535                         0.0              1.0              0.0  0.669826   \n",
       "\n",
       "      MonthlyCharges  TotalCharges  \n",
       "1408        0.981556      1.659900  \n",
       "6992       -0.971546     -0.562252  \n",
       "3349        0.837066      1.756104  \n",
       "4486        0.641092     -0.908326  \n",
       "3535       -0.808787     -0.101561  \n",
       "\n",
       "[5 rows x 46 columns]"
      ]
     },
     "metadata": {},
     "output_type": "display_data"
    }
   ],
   "source": [
    "# Combine Processed DataFrames\n",
    "X_train_processed= pd.concat([X_train_cat, X_train_num], axis=1)\n",
    "X_test_processed= pd.concat([X_test_cat, X_test_num], axis=1)\n",
    "\n",
    "print(f\"Final Processed training data shape: {X_train_processed.shape}\")\n",
    "print(f\"Final Processed testing data shape: {X_test_processed.shape}\")\n",
    "\n",
    "# Display the first 5 rows of the final training data\n",
    "print(\"\\nFirst 5 rows of the Final Processed Training Data: \")\n",
    "display(X_train_processed.head())"
   ]
  },
  {
   "cell_type": "markdown",
   "id": "d5210aab",
   "metadata": {},
   "source": [
    "## Saving Processed Data and Pre-Processors"
   ]
  },
  {
   "cell_type": "code",
   "execution_count": 9,
   "id": "a1e4e7ff",
   "metadata": {},
   "outputs": [
    {
     "name": "stdout",
     "output_type": "stream",
     "text": [
      "Processed data saved successfully!\n",
      "Fitted Preprocessors saved successfully!\n"
     ]
    }
   ],
   "source": [
    "# Save Processed DataFrames to CSV\n",
    "X_train_processed.to_csv('../data/X_train_processed.csv', index=False)\n",
    "X_test_processed.to_csv('../data/X_test_processed.csv', index=False)\n",
    "y_train.to_csv('../data/y_train.csv', index=False)\n",
    "y_test.to_csv('../data/y_test.csv', index=False)\n",
    "\n",
    "print(\"Processed data saved successfully!\")\n",
    "\n",
    "# Save the fitted Preprocessors\n",
    "joblib.dump(scaler, '../models/scaler.joblib')\n",
    "joblib.dump(ohe, '../models/encoder.joblib')\n",
    "\n",
    "print(\"Fitted Preprocessors saved successfully!\")\n"
   ]
  }
 ],
 "metadata": {
  "kernelspec": {
   "display_name": "venv (3.13.5)",
   "language": "python",
   "name": "python3"
  },
  "language_info": {
   "codemirror_mode": {
    "name": "ipython",
    "version": 3
   },
   "file_extension": ".py",
   "mimetype": "text/x-python",
   "name": "python",
   "nbconvert_exporter": "python",
   "pygments_lexer": "ipython3",
   "version": "3.13.5"
  }
 },
 "nbformat": 4,
 "nbformat_minor": 5
}
